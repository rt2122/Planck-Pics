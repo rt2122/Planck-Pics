{
 "cells": [
  {
   "cell_type": "code",
   "execution_count": 1,
   "id": "717ea378",
   "metadata": {
    "ExecuteTime": {
     "end_time": "2021-08-26T15:34:19.538550Z",
     "start_time": "2021-08-26T15:34:19.118977Z"
    }
   },
   "outputs": [],
   "source": [
    "import pandas as pd\n",
    "import numpy as np\n",
    "from matplotlib import pyplot as plt\n",
    "from modules.DS_models_stat import cut_cat, make_histogram, simple_recall, calc_corr_b\n",
    "from modules.DS_data_transformation import inter_cats\n",
    "from tqdm.notebook import tqdm\n",
    "%config InlineBackend.figure_format = 'retina'"
   ]
  },
  {
   "cell_type": "code",
   "execution_count": 2,
   "id": "30aac93a",
   "metadata": {
    "ExecuteTime": {
     "end_time": "2021-08-26T15:38:57.089445Z",
     "start_time": "2021-08-26T15:38:57.067475Z"
    }
   },
   "outputs": [],
   "source": [
    "def recall_mz(z1=False, corr=False):\n",
    "    \n",
    "    def make_pic(ax, true_cat, det_cats, bins, prm, add_text='', switch=False, lsts=['-', '--', '-.', ':']):\n",
    "        \n",
    "        for name, lst in tqdm(zip(det_cats, lsts)):\n",
    "            y = []\n",
    "            for st, en in zip(bins[:-1], bins[1:]):\n",
    "                dc = None\n",
    "                tc = None\n",
    "                if switch:\n",
    "                    cur_df = det_cats[name].copy()\n",
    "                    cur_df = cur_df[st <= cur_df[prm]]\n",
    "                    cur_df = cur_df[cur_df[prm] < en]\n",
    "                    tc = true_cat\n",
    "                    dc = cur_df\n",
    "                else:\n",
    "                    cur_df = true_cat.copy()\n",
    "                    cur_df = cur_df[st <= cur_df[prm]]\n",
    "                    cur_df = cur_df[cur_df[prm] < en]\n",
    "                    tc = cur_df\n",
    "                    dc = det_cats[name]\n",
    "                if len(tc) == 0 or len(dc) == 0:\n",
    "                    y.append(0)\n",
    "                else:\n",
    "                    if corr:\n",
    "                        rec = simple_recall(dc, tc)\n",
    "                        corr_c=1\n",
    "                        if rec > 0:\n",
    "                            corr_c = calc_corr_b(dc, tc)\n",
    "                        y.append(rec * corr_c)\n",
    "                    else:\n",
    "                        y.append(simple_recall(dc, tc))\n",
    "            x = (np.array(bins[:-1]) + np.array(bins[1:]))/2\n",
    "            p, = ax.plot(x, y, ls=lst)\n",
    "            p.set_label(name + add_text)\n",
    "        \n",
    "        \n",
    "    \n",
    "    true_cats = {'eROSITA' : pd.read_csv('./Data/original_cats/eROSITA.csv'),\n",
    "                'PSZ2(z)+MCXC+ACT' : \n",
    "                 pd.read_csv('./Data/united_cats/PSZ2(z)_MCXC_ACT_united.csv')}\n",
    "    det_cats = {'SZcat(AL)' : \n",
    "                pd.read_csv('./Data/detected_cats/SZcatAL.csv'),\n",
    "               'SZcat(gen)' : pd.read_csv('./Data/detected_cats/SZcatgen.csv'),\n",
    "               'PSZ2' : pd.read_csv('./Data/original_cats/PSZ2.csv')}\n",
    "    det_cats['MCXC'] = inter_cats(true_cats['eROSITA'].copy(), \n",
    "                                  pd.read_csv('./Data/original_cats/MCXC.csv'))\n",
    "    if z1:\n",
    "        name = 'PSZ2(z)+MCXC+ACT'\n",
    "        true_cats[name] = cut_cat(true_cats[name], dict_cut={'z' : [0, 1]})\n",
    "    \n",
    "    fig, ax = plt.subplots(1, 3, figsize=(7 * 3, 5), sharey=True)\n",
    "    #z\n",
    "    bins = np.arange(0, 1.4, 0.1)\n",
    "    make_pic(ax[0], true_cats['PSZ2(z)+MCXC+ACT'], {key : det_cats[key] for key in det_cats if key != 'MCXC'},\n",
    "            prm='z', bins=bins, add_text=' recall PSZ2(z)+MCXC+ACT')\n",
    "    \n",
    "    #m500\n",
    "    bins = [2 ** i for i in np.arange(0, 4, 0.2)]\n",
    "    make_pic(ax[1], true_cats['PSZ2(z)+MCXC+ACT'], {key : det_cats[key] for key in det_cats if key != 'MCXC'},\n",
    "            prm='M500', bins=bins, add_text=' recall PSZ2(z)+MCXC+ACT')\n",
    "    \n",
    "    #flux\n",
    "    det_cats = {'SZcat(AL)' : \n",
    "                pd.read_csv('./Data/detected_cats/SZcatAL.csv'),\n",
    "               'SZcat(gen)' : pd.read_csv('./Data/detected_cats/SZcatgen.csv'),\n",
    "                'MCXC' : inter_cats(true_cats['eROSITA'].copy(), \n",
    "                                  pd.read_csv('./Data/original_cats/MCXC.csv')),\n",
    "                'PSZ2(z)+MCXC+ACT' : pd.concat([pd.read_csv('./Data/original_cats/MCXC.csv'),\n",
    "                                               pd.read_csv('./Data/original_cats/ACT.csv'),\n",
    "                                               pd.read_csv('./Data/united_cats/PSZ2(z)_MCXC_ACT_united.csv')])\n",
    "               }\n",
    "    print(list(det_cats))\n",
    "    mine, maxe = true_cats['eROSITA']['flux'].min(), true_cats['eROSITA']['flux'].max()\n",
    "    bins = [np.e ** i for i in np.arange(np.log(mine), np.log(maxe), 0.8)]\n",
    "    make_pic(ax[2], true_cats['eROSITA'], {key : det_cats[key] for key in det_cats},\n",
    "            prm='flux', bins=bins, add_text=' recall eROSITA')\n",
    "    #make_pic(ax[2], cut_cat(true_cats['PSZ2(z)+MCXC+ACT'], dict_cut={'l' : [0, 180], 'b' : [20, np.inf]}), \n",
    "    #         {'eROSITA': true_cats['eROSITA']},\n",
    "    #        prm='flux', bins=bins, add_text=' recall PSZ2(z)+MCXC+ACT eb20', switch=True, lsts=[':'])\n",
    "    \n",
    "    for i in range(3):\n",
    "        ax[i].grid(True, axis='both', which='major', linestyle=':')\n",
    "        ax[i].grid(True, axis='both', which='minor', alpha=0.2, linestyle=':')\n",
    "        ax[i].legend()\n",
    "    ax[0].set_xlabel('z')\n",
    "    ax[1].set_xlabel('M500')\n",
    "    ax[2].set_xlabel('flux')\n",
    "    ax[1].set_xscale('log')\n",
    "    ax[2].set_xscale('log')\n",
    "    ax[2].set_xlim(10**(-14), det_cats['MCXC']['flux'].max())\n",
    "    fig.tight_layout()\n",
    "    \n"
   ]
  },
  {
   "cell_type": "code",
   "execution_count": null,
   "id": "59e499be",
   "metadata": {},
   "outputs": [],
   "source": [
    "recall_mz()"
   ]
  }
 ],
 "metadata": {
  "kernelspec": {
   "display_name": "Python 3",
   "language": "python",
   "name": "python3"
  },
  "language_info": {
   "codemirror_mode": {
    "name": "ipython",
    "version": 3
   },
   "file_extension": ".py",
   "mimetype": "text/x-python",
   "name": "python",
   "nbconvert_exporter": "python",
   "pygments_lexer": "ipython3",
   "version": "3.8.8"
  }
 },
 "nbformat": 4,
 "nbformat_minor": 5
}
